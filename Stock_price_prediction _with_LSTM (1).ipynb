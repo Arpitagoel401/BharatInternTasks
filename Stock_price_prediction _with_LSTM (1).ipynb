{
 "cells": [
  {
   "cell_type": "code",
   "execution_count": 1,
   "id": "4f5dcb6f",
   "metadata": {},
   "outputs": [],
   "source": [
    "import pandas as pd\n",
    "import numpy as np\n",
    "import matplotlib.pyplot as plt\n",
    "from sklearn.preprocessing import MinMaxScaler\n",
    "from tensorflow.keras import Sequential\n",
    "from tensorflow.keras.layers import LSTM , Dense"
   ]
  },
  {
   "cell_type": "markdown",
   "id": "b764c5ee",
   "metadata": {},
   "source": [
    "# Load your dataset"
   ]
  },
  {
   "cell_type": "code",
   "execution_count": 2,
   "id": "818ff135",
   "metadata": {},
   "outputs": [],
   "source": [
    "stock = pd.read_csv(\"NFLX.csv\")"
   ]
  },
  {
   "cell_type": "code",
   "execution_count": 3,
   "id": "c223bc48",
   "metadata": {},
   "outputs": [
    {
     "data": {
      "text/html": [
       "<div>\n",
       "<style scoped>\n",
       "    .dataframe tbody tr th:only-of-type {\n",
       "        vertical-align: middle;\n",
       "    }\n",
       "\n",
       "    .dataframe tbody tr th {\n",
       "        vertical-align: top;\n",
       "    }\n",
       "\n",
       "    .dataframe thead th {\n",
       "        text-align: right;\n",
       "    }\n",
       "</style>\n",
       "<table border=\"1\" class=\"dataframe\">\n",
       "  <thead>\n",
       "    <tr style=\"text-align: right;\">\n",
       "      <th></th>\n",
       "      <th>Date</th>\n",
       "      <th>Open</th>\n",
       "      <th>High</th>\n",
       "      <th>Low</th>\n",
       "      <th>Close</th>\n",
       "      <th>Adj Close</th>\n",
       "      <th>Volume</th>\n",
       "    </tr>\n",
       "  </thead>\n",
       "  <tbody>\n",
       "    <tr>\n",
       "      <th>0</th>\n",
       "      <td>2015-12-16</td>\n",
       "      <td>119.800003</td>\n",
       "      <td>123.000000</td>\n",
       "      <td>118.089996</td>\n",
       "      <td>122.639999</td>\n",
       "      <td>122.639999</td>\n",
       "      <td>13181000</td>\n",
       "    </tr>\n",
       "    <tr>\n",
       "      <th>1</th>\n",
       "      <td>2015-12-17</td>\n",
       "      <td>123.970001</td>\n",
       "      <td>126.349998</td>\n",
       "      <td>122.419998</td>\n",
       "      <td>122.510002</td>\n",
       "      <td>122.510002</td>\n",
       "      <td>17284900</td>\n",
       "    </tr>\n",
       "    <tr>\n",
       "      <th>2</th>\n",
       "      <td>2015-12-18</td>\n",
       "      <td>120.849998</td>\n",
       "      <td>122.190002</td>\n",
       "      <td>117.919998</td>\n",
       "      <td>118.019997</td>\n",
       "      <td>118.019997</td>\n",
       "      <td>17948100</td>\n",
       "    </tr>\n",
       "    <tr>\n",
       "      <th>3</th>\n",
       "      <td>2015-12-21</td>\n",
       "      <td>119.510002</td>\n",
       "      <td>119.589996</td>\n",
       "      <td>115.660004</td>\n",
       "      <td>116.629997</td>\n",
       "      <td>116.629997</td>\n",
       "      <td>11670000</td>\n",
       "    </tr>\n",
       "    <tr>\n",
       "      <th>4</th>\n",
       "      <td>2015-12-22</td>\n",
       "      <td>117.300003</td>\n",
       "      <td>117.430000</td>\n",
       "      <td>114.860001</td>\n",
       "      <td>116.239998</td>\n",
       "      <td>116.239998</td>\n",
       "      <td>9689000</td>\n",
       "    </tr>\n",
       "  </tbody>\n",
       "</table>\n",
       "</div>"
      ],
      "text/plain": [
       "         Date        Open        High         Low       Close   Adj Close  \\\n",
       "0  2015-12-16  119.800003  123.000000  118.089996  122.639999  122.639999   \n",
       "1  2015-12-17  123.970001  126.349998  122.419998  122.510002  122.510002   \n",
       "2  2015-12-18  120.849998  122.190002  117.919998  118.019997  118.019997   \n",
       "3  2015-12-21  119.510002  119.589996  115.660004  116.629997  116.629997   \n",
       "4  2015-12-22  117.300003  117.430000  114.860001  116.239998  116.239998   \n",
       "\n",
       "     Volume  \n",
       "0  13181000  \n",
       "1  17284900  \n",
       "2  17948100  \n",
       "3  11670000  \n",
       "4   9689000  "
      ]
     },
     "execution_count": 3,
     "metadata": {},
     "output_type": "execute_result"
    }
   ],
   "source": [
    "stock.head()"
   ]
  },
  {
   "cell_type": "code",
   "execution_count": 4,
   "id": "a8476ac4",
   "metadata": {},
   "outputs": [
    {
     "data": {
      "text/html": [
       "<div>\n",
       "<style scoped>\n",
       "    .dataframe tbody tr th:only-of-type {\n",
       "        vertical-align: middle;\n",
       "    }\n",
       "\n",
       "    .dataframe tbody tr th {\n",
       "        vertical-align: top;\n",
       "    }\n",
       "\n",
       "    .dataframe thead th {\n",
       "        text-align: right;\n",
       "    }\n",
       "</style>\n",
       "<table border=\"1\" class=\"dataframe\">\n",
       "  <thead>\n",
       "    <tr style=\"text-align: right;\">\n",
       "      <th></th>\n",
       "      <th>Date</th>\n",
       "      <th>Open</th>\n",
       "      <th>High</th>\n",
       "      <th>Low</th>\n",
       "      <th>Close</th>\n",
       "      <th>Adj Close</th>\n",
       "      <th>Volume</th>\n",
       "    </tr>\n",
       "  </thead>\n",
       "  <tbody>\n",
       "    <tr>\n",
       "      <th>1002</th>\n",
       "      <td>2019-12-10</td>\n",
       "      <td>296.119995</td>\n",
       "      <td>298.940002</td>\n",
       "      <td>292.019989</td>\n",
       "      <td>293.119995</td>\n",
       "      <td>293.119995</td>\n",
       "      <td>10476100</td>\n",
       "    </tr>\n",
       "    <tr>\n",
       "      <th>1003</th>\n",
       "      <td>2019-12-11</td>\n",
       "      <td>294.489990</td>\n",
       "      <td>299.429993</td>\n",
       "      <td>294.200012</td>\n",
       "      <td>298.929993</td>\n",
       "      <td>298.929993</td>\n",
       "      <td>5589800</td>\n",
       "    </tr>\n",
       "    <tr>\n",
       "      <th>1004</th>\n",
       "      <td>2019-12-12</td>\n",
       "      <td>295.670013</td>\n",
       "      <td>299.170013</td>\n",
       "      <td>295.059998</td>\n",
       "      <td>298.440002</td>\n",
       "      <td>298.440002</td>\n",
       "      <td>4766600</td>\n",
       "    </tr>\n",
       "    <tr>\n",
       "      <th>1005</th>\n",
       "      <td>2019-12-13</td>\n",
       "      <td>298.500000</td>\n",
       "      <td>301.799988</td>\n",
       "      <td>297.250000</td>\n",
       "      <td>298.500000</td>\n",
       "      <td>298.500000</td>\n",
       "      <td>3879700</td>\n",
       "    </tr>\n",
       "    <tr>\n",
       "      <th>1006</th>\n",
       "      <td>2019-12-16</td>\n",
       "      <td>300.850006</td>\n",
       "      <td>305.709991</td>\n",
       "      <td>298.630005</td>\n",
       "      <td>304.209991</td>\n",
       "      <td>304.209991</td>\n",
       "      <td>4658900</td>\n",
       "    </tr>\n",
       "  </tbody>\n",
       "</table>\n",
       "</div>"
      ],
      "text/plain": [
       "            Date        Open        High         Low       Close   Adj Close  \\\n",
       "1002  2019-12-10  296.119995  298.940002  292.019989  293.119995  293.119995   \n",
       "1003  2019-12-11  294.489990  299.429993  294.200012  298.929993  298.929993   \n",
       "1004  2019-12-12  295.670013  299.170013  295.059998  298.440002  298.440002   \n",
       "1005  2019-12-13  298.500000  301.799988  297.250000  298.500000  298.500000   \n",
       "1006  2019-12-16  300.850006  305.709991  298.630005  304.209991  304.209991   \n",
       "\n",
       "        Volume  \n",
       "1002  10476100  \n",
       "1003   5589800  \n",
       "1004   4766600  \n",
       "1005   3879700  \n",
       "1006   4658900  "
      ]
     },
     "execution_count": 4,
     "metadata": {},
     "output_type": "execute_result"
    }
   ],
   "source": [
    "stock.tail()"
   ]
  },
  {
   "cell_type": "code",
   "execution_count": 5,
   "id": "d2b2bb9d",
   "metadata": {},
   "outputs": [
    {
     "data": {
      "text/plain": [
       "(1007, 7)"
      ]
     },
     "execution_count": 5,
     "metadata": {},
     "output_type": "execute_result"
    }
   ],
   "source": [
    "stock.shape"
   ]
  },
  {
   "cell_type": "code",
   "execution_count": 6,
   "id": "0834a942",
   "metadata": {},
   "outputs": [
    {
     "name": "stdout",
     "output_type": "stream",
     "text": [
      "<class 'pandas.core.frame.DataFrame'>\n",
      "RangeIndex: 1007 entries, 0 to 1006\n",
      "Data columns (total 7 columns):\n",
      " #   Column     Non-Null Count  Dtype  \n",
      "---  ------     --------------  -----  \n",
      " 0   Date       1007 non-null   object \n",
      " 1   Open       1007 non-null   float64\n",
      " 2   High       1007 non-null   float64\n",
      " 3   Low        1007 non-null   float64\n",
      " 4   Close      1007 non-null   float64\n",
      " 5   Adj Close  1007 non-null   float64\n",
      " 6   Volume     1007 non-null   int64  \n",
      "dtypes: float64(5), int64(1), object(1)\n",
      "memory usage: 55.2+ KB\n"
     ]
    }
   ],
   "source": [
    "stock.info()"
   ]
  },
  {
   "cell_type": "code",
   "execution_count": 7,
   "id": "bf86d41c",
   "metadata": {},
   "outputs": [
    {
     "data": {
      "text/html": [
       "<div>\n",
       "<style scoped>\n",
       "    .dataframe tbody tr th:only-of-type {\n",
       "        vertical-align: middle;\n",
       "    }\n",
       "\n",
       "    .dataframe tbody tr th {\n",
       "        vertical-align: top;\n",
       "    }\n",
       "\n",
       "    .dataframe thead th {\n",
       "        text-align: right;\n",
       "    }\n",
       "</style>\n",
       "<table border=\"1\" class=\"dataframe\">\n",
       "  <thead>\n",
       "    <tr style=\"text-align: right;\">\n",
       "      <th></th>\n",
       "      <th>Open</th>\n",
       "      <th>High</th>\n",
       "      <th>Low</th>\n",
       "      <th>Close</th>\n",
       "      <th>Adj Close</th>\n",
       "      <th>Volume</th>\n",
       "    </tr>\n",
       "  </thead>\n",
       "  <tbody>\n",
       "    <tr>\n",
       "      <th>count</th>\n",
       "      <td>1007.000000</td>\n",
       "      <td>1007.000000</td>\n",
       "      <td>1007.000000</td>\n",
       "      <td>1007.000000</td>\n",
       "      <td>1007.000000</td>\n",
       "      <td>1.007000e+03</td>\n",
       "    </tr>\n",
       "    <tr>\n",
       "      <th>mean</th>\n",
       "      <td>226.708094</td>\n",
       "      <td>229.972979</td>\n",
       "      <td>223.105690</td>\n",
       "      <td>226.670159</td>\n",
       "      <td>226.670159</td>\n",
       "      <td>9.730586e+06</td>\n",
       "    </tr>\n",
       "    <tr>\n",
       "      <th>std</th>\n",
       "      <td>103.305422</td>\n",
       "      <td>104.851349</td>\n",
       "      <td>101.458611</td>\n",
       "      <td>103.203785</td>\n",
       "      <td>103.203785</td>\n",
       "      <td>6.398967e+06</td>\n",
       "    </tr>\n",
       "    <tr>\n",
       "      <th>min</th>\n",
       "      <td>80.570000</td>\n",
       "      <td>84.699997</td>\n",
       "      <td>79.949997</td>\n",
       "      <td>82.790001</td>\n",
       "      <td>82.790001</td>\n",
       "      <td>1.616300e+06</td>\n",
       "    </tr>\n",
       "    <tr>\n",
       "      <th>25%</th>\n",
       "      <td>125.779999</td>\n",
       "      <td>127.165001</td>\n",
       "      <td>124.355000</td>\n",
       "      <td>125.514999</td>\n",
       "      <td>125.514999</td>\n",
       "      <td>5.573200e+06</td>\n",
       "    </tr>\n",
       "    <tr>\n",
       "      <th>50%</th>\n",
       "      <td>197.850006</td>\n",
       "      <td>199.440002</td>\n",
       "      <td>195.330002</td>\n",
       "      <td>198.000000</td>\n",
       "      <td>198.000000</td>\n",
       "      <td>7.857600e+06</td>\n",
       "    </tr>\n",
       "    <tr>\n",
       "      <th>75%</th>\n",
       "      <td>325.529999</td>\n",
       "      <td>330.835006</td>\n",
       "      <td>318.869995</td>\n",
       "      <td>325.220001</td>\n",
       "      <td>325.220001</td>\n",
       "      <td>1.178630e+07</td>\n",
       "    </tr>\n",
       "    <tr>\n",
       "      <th>max</th>\n",
       "      <td>421.380005</td>\n",
       "      <td>423.209991</td>\n",
       "      <td>413.079987</td>\n",
       "      <td>418.970001</td>\n",
       "      <td>418.970001</td>\n",
       "      <td>5.841040e+07</td>\n",
       "    </tr>\n",
       "  </tbody>\n",
       "</table>\n",
       "</div>"
      ],
      "text/plain": [
       "              Open         High          Low        Close    Adj Close  \\\n",
       "count  1007.000000  1007.000000  1007.000000  1007.000000  1007.000000   \n",
       "mean    226.708094   229.972979   223.105690   226.670159   226.670159   \n",
       "std     103.305422   104.851349   101.458611   103.203785   103.203785   \n",
       "min      80.570000    84.699997    79.949997    82.790001    82.790001   \n",
       "25%     125.779999   127.165001   124.355000   125.514999   125.514999   \n",
       "50%     197.850006   199.440002   195.330002   198.000000   198.000000   \n",
       "75%     325.529999   330.835006   318.869995   325.220001   325.220001   \n",
       "max     421.380005   423.209991   413.079987   418.970001   418.970001   \n",
       "\n",
       "             Volume  \n",
       "count  1.007000e+03  \n",
       "mean   9.730586e+06  \n",
       "std    6.398967e+06  \n",
       "min    1.616300e+06  \n",
       "25%    5.573200e+06  \n",
       "50%    7.857600e+06  \n",
       "75%    1.178630e+07  \n",
       "max    5.841040e+07  "
      ]
     },
     "execution_count": 7,
     "metadata": {},
     "output_type": "execute_result"
    }
   ],
   "source": [
    "stock.describe()"
   ]
  },
  {
   "cell_type": "markdown",
   "id": "bb98ced8",
   "metadata": {},
   "source": [
    "### Preprocess the data , scale it"
   ]
  },
  {
   "cell_type": "code",
   "execution_count": 8,
   "id": "ab1c7879",
   "metadata": {},
   "outputs": [],
   "source": [
    "scaler = MinMaxScaler()"
   ]
  },
  {
   "cell_type": "code",
   "execution_count": 9,
   "id": "a70c9b7b",
   "metadata": {},
   "outputs": [
    {
     "data": {
      "text/plain": [
       "0       122.639999\n",
       "1       122.510002\n",
       "2       118.019997\n",
       "3       116.629997\n",
       "4       116.239998\n",
       "           ...    \n",
       "1002    293.119995\n",
       "1003    298.929993\n",
       "1004    298.440002\n",
       "1005    298.500000\n",
       "1006    304.209991\n",
       "Name: Close, Length: 1007, dtype: float64"
      ]
     },
     "execution_count": 9,
     "metadata": {},
     "output_type": "execute_result"
    }
   ],
   "source": [
    "stock['Close']"
   ]
  },
  {
   "cell_type": "code",
   "execution_count": 10,
   "id": "fb0b495b",
   "metadata": {},
   "outputs": [],
   "source": [
    "stock['Close'] = scaler.fit_transform(stock['Close'].values.reshape(-1,1))"
   ]
  },
  {
   "cell_type": "code",
   "execution_count": 11,
   "id": "a5675805",
   "metadata": {},
   "outputs": [
    {
     "data": {
      "text/plain": [
       "0       0.118538\n",
       "1       0.118151\n",
       "2       0.104795\n",
       "3       0.100660\n",
       "4       0.099500\n",
       "          ...   \n",
       "1002    0.625647\n",
       "1003    0.642929\n",
       "1004    0.641472\n",
       "1005    0.641650\n",
       "1006    0.658635\n",
       "Name: Close, Length: 1007, dtype: float64"
      ]
     },
     "execution_count": 11,
     "metadata": {},
     "output_type": "execute_result"
    }
   ],
   "source": [
    "stock['Close']"
   ]
  },
  {
   "cell_type": "code",
   "execution_count": 12,
   "id": "245e7611",
   "metadata": {},
   "outputs": [
    {
     "data": {
      "text/plain": [
       "1007"
      ]
     },
     "execution_count": 12,
     "metadata": {},
     "output_type": "execute_result"
    }
   ],
   "source": [
    "len(stock)"
   ]
  },
  {
   "cell_type": "code",
   "execution_count": 13,
   "id": "af59bb3d",
   "metadata": {},
   "outputs": [],
   "source": [
    "def create_seuences(stock,sequence_len):\n",
    "    sequences = []\n",
    "    for i in range(len(stock) - sequence_len):\n",
    "        sequences.append(stock[i:i+sequence_len])\n",
    "    return np.array(sequences)      "
   ]
  },
  {
   "cell_type": "code",
   "execution_count": 14,
   "id": "342c2393",
   "metadata": {},
   "outputs": [],
   "source": [
    "sequence_len = 30\n",
    "sequences = create_seuences(stock['Close'],sequence_len)"
   ]
  },
  {
   "cell_type": "code",
   "execution_count": 15,
   "id": "cd17f1f5",
   "metadata": {},
   "outputs": [
    {
     "data": {
      "text/plain": [
       "0       0.118538\n",
       "1       0.118151\n",
       "2       0.104795\n",
       "3       0.100660\n",
       "4       0.099500\n",
       "          ...   \n",
       "1002    0.625647\n",
       "1003    0.642929\n",
       "1004    0.641472\n",
       "1005    0.641650\n",
       "1006    0.658635\n",
       "Name: Close, Length: 1007, dtype: float64"
      ]
     },
     "execution_count": 15,
     "metadata": {},
     "output_type": "execute_result"
    }
   ],
   "source": [
    "stock['Close']"
   ]
  },
  {
   "cell_type": "code",
   "execution_count": 16,
   "id": "243de9e0",
   "metadata": {},
   "outputs": [],
   "source": [
    "x = sequences[: , :-1]\n",
    "y = sequences[: , -1]"
   ]
  },
  {
   "cell_type": "markdown",
   "id": "ed855caf",
   "metadata": {},
   "source": [
    "## Splitting the data"
   ]
  },
  {
   "cell_type": "code",
   "execution_count": 17,
   "id": "774d1ead",
   "metadata": {},
   "outputs": [],
   "source": [
    "from sklearn.model_selection import train_test_split\n",
    "x_train , x_test , y_train , y_test = train_test_split(x,y,test_size=0.2,random_state=42)"
   ]
  },
  {
   "cell_type": "code",
   "execution_count": 18,
   "id": "8b0a9556",
   "metadata": {},
   "outputs": [
    {
     "data": {
      "text/plain": [
       "array([[0.8485038 , 0.85724912, 0.8474329 , ..., 0.79885777, 0.79216493,\n",
       "        0.81182697],\n",
       "       [0.52361832, 0.53138197, 0.54684991, ..., 0.56044384, 0.63888395,\n",
       "        0.6917425 ],\n",
       "       [0.0205842 , 0.        , 0.00157653, ..., 0.04563031, 0.04482718,\n",
       "        0.04925932],\n",
       "       ...,\n",
       "       [0.78922001, 0.80754354, 0.82378491, ..., 0.83113216, 0.85439344,\n",
       "        0.84636209],\n",
       "       [0.2785115 , 0.29433638, 0.30447972, ..., 0.3566244 , 0.3471057 ,\n",
       "        0.33538578],\n",
       "       [0.01514069, 0.0188292 , 0.01737163, ..., 0.02439169, 0.02147659,\n",
       "        0.02638468]])"
      ]
     },
     "execution_count": 18,
     "metadata": {},
     "output_type": "execute_result"
    }
   ],
   "source": [
    "x_train "
   ]
  },
  {
   "cell_type": "code",
   "execution_count": 19,
   "id": "1f82168b",
   "metadata": {},
   "outputs": [
    {
     "data": {
      "text/plain": [
       "array([[[0.8485038 ],\n",
       "        [0.85724912],\n",
       "        [0.8474329 ],\n",
       "        ...,\n",
       "        [0.79885777],\n",
       "        [0.79216493],\n",
       "        [0.81182697]],\n",
       "\n",
       "       [[0.52361832],\n",
       "        [0.53138197],\n",
       "        [0.54684991],\n",
       "        ...,\n",
       "        [0.56044384],\n",
       "        [0.63888395],\n",
       "        [0.6917425 ]],\n",
       "\n",
       "       [[0.0205842 ],\n",
       "        [0.        ],\n",
       "        [0.00157653],\n",
       "        ...,\n",
       "        [0.04563031],\n",
       "        [0.04482718],\n",
       "        [0.04925932]],\n",
       "\n",
       "       ...,\n",
       "\n",
       "       [[0.78922001],\n",
       "        [0.80754354],\n",
       "        [0.82378491],\n",
       "        ...,\n",
       "        [0.83113216],\n",
       "        [0.85439344],\n",
       "        [0.84636209]],\n",
       "\n",
       "       [[0.2785115 ],\n",
       "        [0.29433638],\n",
       "        [0.30447972],\n",
       "        ...,\n",
       "        [0.3566244 ],\n",
       "        [0.3471057 ],\n",
       "        [0.33538578]],\n",
       "\n",
       "       [[0.01514069],\n",
       "        [0.0188292 ],\n",
       "        [0.01737163],\n",
       "        ...,\n",
       "        [0.02439169],\n",
       "        [0.02147659],\n",
       "        [0.02638468]]])"
      ]
     },
     "execution_count": 19,
     "metadata": {},
     "output_type": "execute_result"
    }
   ],
   "source": [
    "x_train = x_train.reshape(x_train.shape[0],x_train.shape[1],1)\n",
    "x_train"
   ]
  },
  {
   "cell_type": "code",
   "execution_count": 20,
   "id": "ecf1cce5",
   "metadata": {},
   "outputs": [],
   "source": [
    "x_test = x_test.reshape(x_test.shape[0],x_test.shape[1],1)"
   ]
  },
  {
   "cell_type": "markdown",
   "id": "4c6c09da",
   "metadata": {},
   "source": [
    "# Create an LSTM model"
   ]
  },
  {
   "cell_type": "code",
   "execution_count": 21,
   "id": "03614df8",
   "metadata": {},
   "outputs": [],
   "source": [
    "model = Sequential()\n",
    "model.add(LSTM(units = 50 ,return_sequences=True,input_shape=(x_train.shape[1],1)))\n",
    "model.add(LSTM(units = 50 ))\n",
    "model.add(Dense(units=25))\n",
    "model.add(Dense(units=1))"
   ]
  },
  {
   "cell_type": "markdown",
   "id": "cade260a",
   "metadata": {},
   "source": [
    "## Compile the model"
   ]
  },
  {
   "cell_type": "code",
   "execution_count": 22,
   "id": "a19b1bf1",
   "metadata": {},
   "outputs": [],
   "source": [
    "from sklearn.metrics import mean_squared_error\n",
    "model.compile(optimizer='Adam',loss='mean_squared_error')"
   ]
  },
  {
   "cell_type": "markdown",
   "id": "5e481f2a",
   "metadata": {},
   "source": [
    "## Training of the model"
   ]
  },
  {
   "cell_type": "code",
   "execution_count": 23,
   "id": "94f9e871",
   "metadata": {},
   "outputs": [
    {
     "name": "stdout",
     "output_type": "stream",
     "text": [
      "Epoch 1/50\n",
      "25/25 [==============================] - 9s 47ms/step - loss: 0.0347\n",
      "Epoch 2/50\n",
      "25/25 [==============================] - 1s 45ms/step - loss: 0.0034\n",
      "Epoch 3/50\n",
      "25/25 [==============================] - 1s 46ms/step - loss: 0.0020\n",
      "Epoch 4/50\n",
      "25/25 [==============================] - 1s 48ms/step - loss: 0.0018\n",
      "Epoch 5/50\n",
      "25/25 [==============================] - 1s 46ms/step - loss: 0.0018\n",
      "Epoch 6/50\n",
      "25/25 [==============================] - 1s 47ms/step - loss: 0.0017\n",
      "Epoch 7/50\n",
      "25/25 [==============================] - 1s 45ms/step - loss: 0.0017\n",
      "Epoch 8/50\n",
      "25/25 [==============================] - 1s 47ms/step - loss: 0.0016\n",
      "Epoch 9/50\n",
      "25/25 [==============================] - 1s 44ms/step - loss: 0.0016\n",
      "Epoch 10/50\n",
      "25/25 [==============================] - 1s 48ms/step - loss: 0.0019\n",
      "Epoch 11/50\n",
      "25/25 [==============================] - 1s 46ms/step - loss: 0.0020\n",
      "Epoch 12/50\n",
      "25/25 [==============================] - 1s 46ms/step - loss: 0.0017\n",
      "Epoch 13/50\n",
      "25/25 [==============================] - 1s 46ms/step - loss: 0.0015\n",
      "Epoch 14/50\n",
      "25/25 [==============================] - 1s 47ms/step - loss: 0.0014\n",
      "Epoch 15/50\n",
      "25/25 [==============================] - 1s 46ms/step - loss: 0.0014\n",
      "Epoch 16/50\n",
      "25/25 [==============================] - 1s 46ms/step - loss: 0.0013\n",
      "Epoch 17/50\n",
      "25/25 [==============================] - 1s 46ms/step - loss: 0.0014\n",
      "Epoch 18/50\n",
      "25/25 [==============================] - 1s 47ms/step - loss: 0.0012\n",
      "Epoch 19/50\n",
      "25/25 [==============================] - 1s 46ms/step - loss: 0.0013\n",
      "Epoch 20/50\n",
      "25/25 [==============================] - 1s 46ms/step - loss: 0.0012\n",
      "Epoch 21/50\n",
      "25/25 [==============================] - 1s 46ms/step - loss: 0.0012\n",
      "Epoch 22/50\n",
      "25/25 [==============================] - 1s 42ms/step - loss: 0.0012\n",
      "Epoch 23/50\n",
      "25/25 [==============================] - 1s 45ms/step - loss: 0.0011\n",
      "Epoch 24/50\n",
      "25/25 [==============================] - 1s 42ms/step - loss: 0.0012\n",
      "Epoch 25/50\n",
      "25/25 [==============================] - 1s 45ms/step - loss: 0.0013\n",
      "Epoch 26/50\n",
      "25/25 [==============================] - 1s 45ms/step - loss: 0.0013\n",
      "Epoch 27/50\n",
      "25/25 [==============================] - 1s 45ms/step - loss: 0.0012\n",
      "Epoch 28/50\n",
      "25/25 [==============================] - 1s 44ms/step - loss: 0.0010\n",
      "Epoch 29/50\n",
      "25/25 [==============================] - 1s 48ms/step - loss: 0.0013\n",
      "Epoch 30/50\n",
      "25/25 [==============================] - 1s 44ms/step - loss: 0.0012\n",
      "Epoch 31/50\n",
      "25/25 [==============================] - 1s 48ms/step - loss: 0.0012\n",
      "Epoch 32/50\n",
      "25/25 [==============================] - 1s 45ms/step - loss: 0.0013\n",
      "Epoch 33/50\n",
      "25/25 [==============================] - 1s 44ms/step - loss: 9.9438e-04\n",
      "Epoch 34/50\n",
      "25/25 [==============================] - 1s 43ms/step - loss: 9.1592e-04\n",
      "Epoch 35/50\n",
      "25/25 [==============================] - 1s 45ms/step - loss: 9.7621e-04\n",
      "Epoch 36/50\n",
      "25/25 [==============================] - 1s 46ms/step - loss: 0.0013\n",
      "Epoch 37/50\n",
      "25/25 [==============================] - 1s 45ms/step - loss: 0.0011\n",
      "Epoch 38/50\n",
      "25/25 [==============================] - 1s 45ms/step - loss: 8.9687e-04\n",
      "Epoch 39/50\n",
      "25/25 [==============================] - 1s 48ms/step - loss: 7.8850e-04\n",
      "Epoch 40/50\n",
      "25/25 [==============================] - 1s 46ms/step - loss: 7.4844e-04\n",
      "Epoch 41/50\n",
      "25/25 [==============================] - 1s 44ms/step - loss: 7.4720e-04\n",
      "Epoch 42/50\n",
      "25/25 [==============================] - 1s 45ms/step - loss: 7.3553e-04\n",
      "Epoch 43/50\n",
      "25/25 [==============================] - 1s 44ms/step - loss: 7.2271e-04\n",
      "Epoch 44/50\n",
      "25/25 [==============================] - 1s 46ms/step - loss: 8.4535e-04\n",
      "Epoch 45/50\n",
      "25/25 [==============================] - 1s 43ms/step - loss: 6.6664e-04\n",
      "Epoch 46/50\n",
      "25/25 [==============================] - 1s 47ms/step - loss: 7.0330e-04\n",
      "Epoch 47/50\n",
      "25/25 [==============================] - 1s 44ms/step - loss: 7.1699e-04\n",
      "Epoch 48/50\n",
      "25/25 [==============================] - 1s 46ms/step - loss: 5.9107e-04\n",
      "Epoch 49/50\n",
      "25/25 [==============================] - 1s 45ms/step - loss: 5.5879e-04\n",
      "Epoch 50/50\n",
      "25/25 [==============================] - 1s 49ms/step - loss: 5.4781e-04\n"
     ]
    }
   ],
   "source": [
    "history = model.fit(x_train,y_train , epochs=50 , batch_size = 32)"
   ]
  },
  {
   "cell_type": "markdown",
   "id": "b170e866",
   "metadata": {},
   "source": [
    "## predictions"
   ]
  },
  {
   "cell_type": "code",
   "execution_count": 24,
   "id": "56b16ee4",
   "metadata": {},
   "outputs": [
    {
     "name": "stdout",
     "output_type": "stream",
     "text": [
      "7/7 [==============================] - 2s 18ms/step\n"
     ]
    }
   ],
   "source": [
    "pred_y = model.predict(x_test)"
   ]
  },
  {
   "cell_type": "code",
   "execution_count": 25,
   "id": "e821a49f",
   "metadata": {},
   "outputs": [],
   "source": [
    "mse = mean_squared_error(y_test,pred_y)"
   ]
  },
  {
   "cell_type": "code",
   "execution_count": 26,
   "id": "cba70288",
   "metadata": {},
   "outputs": [
    {
     "name": "stdout",
     "output_type": "stream",
     "text": [
      "Mean squared error is : 0.00067547706741773\n"
     ]
    }
   ],
   "source": [
    "print(f\"Mean squared error is : {mse}\")"
   ]
  },
  {
   "cell_type": "code",
   "execution_count": 27,
   "id": "db85be8b",
   "metadata": {},
   "outputs": [
    {
     "data": {
      "text/plain": [
       "[<matplotlib.lines.Line2D at 0x1d50f952620>]"
      ]
     },
     "execution_count": 27,
     "metadata": {},
     "output_type": "execute_result"
    },
    {
     "data": {
      "image/png": "[encoded data removed]",
      "text/plain": [
       "<Figure size 640x480 with 1 Axes>"
      ]
     },
     "metadata": {},
     "output_type": "display_data"
    }
   ],
   "source": [
    "plt.plot(history.history['loss'])"
   ]
  },
  {
   "cell_type": "code",
   "execution_count": 30,
   "id": "e907df28",
   "metadata": {},
   "outputs": [
    {
     "data": {
      "image/png": "[encoded data removed]",
      "text/plain": [
       "<Figure size 600x600 with 1 Axes>"
      ]
     },
     "metadata": {},
     "output_type": "display_data"
    }
   ],
   "source": [
    "plt.figure(figsize=(6,6))\n",
    "plt.plot(y_test,label =\"Actual Prices\",color = 'r')\n",
    "plt.plot(pred_y,label=\"Predicted Prices\",color = 'b')\n",
    "plt.legend()\n",
    "plt.title('Stock Price Prediction')\n",
    "plt.xlabel('Time')\n",
    "plt.ylabel('Normalised Price')\n",
    "plt.show()"
   ]
  },
  {
   "cell_type": "code",
   "execution_count": null,
   "id": "5b060a66",
   "metadata": {},
   "outputs": [],
   "source": []
  }
 ],
 "metadata": {
  "kernelspec": {
   "display_name": "Python 3 (ipykernel)",
   "language": "python",
   "name": "python3"
  },
  "language_info": {
   "codemirror_mode": {
    "name": "ipython",
    "version": 3
   },
   "file_extension": ".py",
   "mimetype": "text/x-python",
   "name": "python",
   "nbconvert_exporter": "python",
   "pygments_lexer": "ipython3",
   "version": "3.10.9"
  }
 },
 "nbformat": 4,
 "nbformat_minor": 5
}
